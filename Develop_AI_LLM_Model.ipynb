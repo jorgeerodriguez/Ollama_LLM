{
 "cells": [
  {
   "cell_type": "markdown",
   "metadata": {},
   "source": [
    "# Developing an AI Application Locally\n",
    "\n",
    "In this section, we will develop an AI-powered application that reads docx files from a designated folder, converts them into embeddings, and stores them in a vector store.\n",
    "\n",
    "Afterward, we will use a similarity search to retrieve relevant meanings and provide contextual answers to your questions.\n",
    "\n",
    "This application will enable you to quickly understand the essence of books and delve deeper into character development."
   ]
  },
  {
   "cell_type": "markdown",
   "metadata": {},
   "source": [
    "## Setting up\n",
    "\n",
    "First, we will install all the necessary Python packages for loading the documents, vector store, and LLM frameworks.\n",
    "\n",
    "\n",
    "pip install unstructured[docx] langcha\n",
    "pip install unstructured[docx] langchain langchainhub langchain_community langchain-chroma\n",
    "pip install networkx"
   ]
  },
  {
   "cell_type": "markdown",
   "metadata": {},
   "source": [
    "ollama serve"
   ]
  },
  {
   "cell_type": "markdown",
   "metadata": {},
   "source": [
    "## Loading the documents\n",
    "\n",
    "It is a best practice to develop and test your code in Jupyter Notebook before creating the app.\n",
    "\n",
    "We will load all the docx files from the folder using the DirectoryLoader.\n"
   ]
  },
  {
   "cell_type": "markdown",
   "metadata": {},
   "source": [
    "C:/Users/rod90731/OneDrive - Black & Veatch/Documents/Jorge/Python/LLM Models"
   ]
  },
  {
   "cell_type": "code",
   "execution_count": 12,
   "metadata": {},
   "outputs": [
    {
     "data": {
      "text/plain": [
       "1"
      ]
     },
     "execution_count": 12,
     "metadata": {},
     "output_type": "execute_result"
    }
   ],
   "source": [
    "from langchain_community.document_loaders import DirectoryLoader\n",
    "\n",
    "loader = DirectoryLoader(\"C:/Users/rod90731/Downloads/test\", glob=\"**/*.docx\")\n",
    "books = loader.load()\n",
    "len(books)"
   ]
  },
  {
   "cell_type": "markdown",
   "metadata": {},
   "source": [
    "### Words Documents:"
   ]
  },
  {
   "cell_type": "code",
   "execution_count": 14,
   "metadata": {},
   "outputs": [
    {
     "data": {
      "text/plain": [
       "1"
      ]
     },
     "execution_count": 14,
     "metadata": {},
     "output_type": "execute_result"
    }
   ],
   "source": [
    "from langchain_community.document_loaders import DirectoryLoader\n",
    "\n",
    "loader = DirectoryLoader(\"C:/Users/rod90731/OneDrive - Black & Veatch/Documents/Jorge/Python/LLM Models\", glob=\"**/*.docx\")\n",
    "books = loader.load()\n",
    "len(books)"
   ]
  },
  {
   "cell_type": "markdown",
   "metadata": {},
   "source": [
    "### Text Documents:"
   ]
  },
  {
   "cell_type": "code",
   "execution_count": 48,
   "metadata": {},
   "outputs": [
    {
     "data": {
      "text/plain": [
       "1"
      ]
     },
     "execution_count": 48,
     "metadata": {},
     "output_type": "execute_result"
    }
   ],
   "source": [
    "from langchain_community.document_loaders import DirectoryLoader\n",
    "\n",
    "loader = DirectoryLoader(\"C:/Users/rod90731/OneDrive - Black & Veatch/Documents/Jorge/Python/LLM Models\", glob=\"Correction of Errors - APAC Performance (2.1)*.docx\")\n",
    "books = loader.load()\n",
    "len(books)"
   ]
  },
  {
   "cell_type": "code",
   "execution_count": 49,
   "metadata": {},
   "outputs": [
    {
     "data": {
      "text/plain": [
       "[Document(page_content='Correction of Errors (COE)\\n\\nAPAC Teams, Internet, and ProjectWise Performance Issues Correction of Errors\\n\\n\\u200d1.\\xa0Description of problem and its impact\\n\\n\\u200dDescription\\n\\nOver the past 18 months, and right after the RTO (Return to Office) Policy came up in January 2023, many of the professionals in the APAC region, and more specific in the Vikhroli, Pune and Bangkok offices started to notice and report performance issues while accessing the Internet, having Teams calls and accessing ProjectWise applications.\\n\\nBefore the COVID-19 Pandemic, most professionals in APAC and around the world did not have a good/reliable Internet service at home, as it was not the standard to work from home. During the Pandemic almost everybody invested in a good quality and reliable Internet Service at home, but the Office Bandwidth was not upgraded at all, and in some cases, the bandwidth was downgraded to save money on empty offices.\\n\\nThis huge discrepancy prior to the RTO decision, as we did not expect professionals to return to the office except for occasional meetings. Most Professionals had chosen the Virtual option and expected it to be permanent at that time, this oversight resulted in extremely deficient performance when the professionals started to return to the office and became an even more severe problem when the RTO policy came into effect in January 2023.\\n\\nData Collected\\n\\n\\u200dProfessionals at home have 500 Mbs. bandwidth Fiber and better service than when working in the offices for Teams calls and Internet Services.\\n\\nThe largest bandwidth available in the offices is 100 Mbps MPLS with latency of over 200 ms. to access internet services via our Singapore Datacenter.\\n\\nUsers’ home bandwidth could be as high as 1 Gbps, and latency to Internet services with less than 30 ms.\\n\\nThe OCIO does not currently have a testing method for applications.\\n\\nThe OCIO does not currently have an application performance tool to measure and alert when metrics are not meeting user expectations.\\n\\nThe OCIO does not currently have a Capacity Planning program for application Performance, Minimum bandwidth requirements and Minimum Latency requirements.\\n\\nPrioritization of other Projects towards World HQ Building in Overland Park, KS took precedence over APAC.\\n\\nThe Lack of full Stack Observability in all applications was a critical part to be proactive on solving the issues.\\n\\nThe Lack of knowledge on how Microsoft Teams works in a global environment created a not healthy environment for a successful deployment.\\n\\n\\n\\nThe Supply and Demand Challenges to deliver Hardware globally delayed a lot of the work in APAC region up to 12 months.\\n\\nThe lack of knowledge on SD-WAN Architectures and Technology caused a 12-month delay in the deployment of the innovative technology.\\n\\nThe Lack of knowledge on SASE Solutions and the integration with Zscaler APIs as innovative technology caused performance delays up to 1,000 ms at times during peak hours.\\n\\nThe Lack of QoS Settings Globally in End user Computers and Network Devices was a surprise as we all thought it was already deployed several years back.\\n\\nRegulatory issues in India to allow Equinix Services to Operate delayed 9 months the implementation of our Mumbai Datacenter and therefore all services related to it.\\n\\nMost of the APAC Offices have Legacy Infrastructure of 10-15 years old that causes performance issues over wireless (Wi-Fi) and wired networks.\\n\\nThe India office had been re-using obsolete IT equipment since at least 2021. During the visit we reminded them that this could impact the performance of Teams and other applications.\\n\\nLogon times up to 7 minutes had been reported since they began returning to the office. EUC and the network team had been working with them to resolve these issues.  While we were there, we completed additional troubleshooting, which continued after our visit.\\n\\nCustomer Impact\\n\\nAll professionals in the main offices in APAC particularly India’s offices and Bangkok were affected with an estimation of over 2,000 professionals in the APAC Region.\\n\\n2. Root causes\\n\\nWhile we cannot pinpoint just one single root cause, we found several opportunities to improve.\\n\\nWe started to upgrade circuits in APAC to remove MPLS circuits and implemented a Software Defined Wide Area Network (SD-WAN) technology that will allows us to reduce latency and improve bandwidth. While the Intentions were on the correct path, we did not deploy it correctly due to technical knowledge gaps we had with the innovative technology we deployed (Cisco SD-WAN and ZScaler). Unfortunately, we did not recognize this sooner.\\n\\nWe did a Microsoft Network Assessment engagement to find out the areas where we needed to improve or correct to help improve the End User Experience and Teams quality; and not having a local DNS was one of the big recommendations from Microsoft, as well as QoS (Quality of Service –the process of marking Teams traffic for preferred bandwidth on the network).\\n\\nWe learned about MaxMind, an IP database that is being used by several major providers like Zscaler, Cisco and Microsoft (learned later in the process) to obtain GEO locations of internet traffic. Since we did not know about this, all traffic from Teams and other SAS services were being re-routed to USA, UK and Australia depending on which IP address they were using. The IP information was based on the local DNS we deployed earlier per Microsoft recommendations. Microsoft did not let us know that we needed to register all the IP Addresses within MaxMind Database.\\n\\n\\n\\nWe found out that the AD (Active Directory) read only setting for authentication did not work as designed, as we do not have to correct AD groups set up in the End User Devices to take advantage of it.\\n\\nZScaler On-Ramp, Inspection and Datacenters latency issues in APAC region did not perform as we expected. Zscaler Datacenters in APAC, particularly in India, had latency and outage issues. The latency was not consistent and fluctuated from 100 ms. to 3,000 ms. during business hours and with no pattern that we or ZScaler could explain. This seriously affected Teams call quality and web-based application speeds.\\n\\nQoS Settings on PC were not being correctly implemented in production and not consistently configured on the network.\\n\\nAgainst the advice and recommendation of OCIO, Leaders in India have delayed purchasing new computers, and when they have purchased new computers have continued to use old docking stations to “save money”.  Despite repeated recommendations that they procure new equipment to ensure peak computer performance, they continued this practice until late in 2023. Hundreds of new docking stations were ordered and arrived, and they did not want their professionals to remove the old docks and plug in the new docks themselves.  They also only allowed techs to replace them a few at a time.  It therefore took many months to do what should have been done within days of receiving the docking stations.\\n\\nThe network infrastructure in India and Bangkok is 10-15 years old and needs to be replaced. It was never designed for the new workflows and demand we have today (Tech Debt).\\n\\nThe lack of testing assets in the regional office locations and lack of a performance monitoring tool prohibited our efficiency to actively monitor performance.\\n\\nThe India Government delayed over 9 months the permits to allow Equinix to conduct Business in India, which affected the implementation of the Mumbai Datacenter and therefore the Professionals ability to perform their job efficiently.\\n\\nThe lack of a capacity planning program inhibits us from planning and taking initiative-taking on Bandwidth constraints, Latency requirements and performance requirements.\\n\\nThe Global Supply and Demand issues delayed hardware delivery up to 12-15 months in some countries.\\n\\n3.\\xa0Corrective actions taken as today.\\n\\nBrought an SME on SD-WAN on a SoW to help us with the design and implementation.\\n\\nExpediated our implementation of a Virtual Mumbai Datacenter with connectivity to the Internet of 2 Gbps and securing a 1 Gbps point to point TATA Circuit from each office (Vikhroli and Pune). This allowed BV to bypass the Zscaler Network congestion by using a virtual Palo Alto Firewall to secure the traffic.\\n\\n\\n\\nBypassing Zscaler in Bangkok Office by locally terminating all Microsoft O365 traffic and sending all internet traffic to the BV Singapore Data Center.\\n\\nUpgraded Local Circuits to two 1 Gbps to have HA (High Availability) in India and Bangkok.\\n\\nImplementation of QoS on PCs and Network devices.\\n\\nReduce the latency from 150 ms. to 10 ms.\\n\\nWorking on a proposal to upgrade the Network infrastructure in India and Bangkok.\\n\\nReplaced all old docking stations in India.\\n\\nDocumented and updated MaxMind DB in all locations in APAC.\\n\\nWorking on a proposal to do a Tech-Refresh in APAC and EMEA to improve Performance on wire and wireless (Wi-Fi).\\n\\nResearching tools for Application Performance and Testing Methodologies.\\n\\nAdded a dedicated ProjectWise test asset in the Vikhroli office for performance testing and monitoring.\\n\\nPune and Bangkok offices are target destinations as well.\\n\\n4.\\xa0Lessons learned…good and bad\\n\\nWe learned that this issue was more complex than just a Teams performance issue or a network issue.\\n\\nWe thought we could deploy brand innovative technology with our current provider (Infosys) and were proven wrong.\\n\\nWe learned that it was more than just a network bandwidth issue and required a more inclusive team to work together to solve the issues.\\n\\nWe learned we needed to ask for help.\\n\\nWe learned that by traveling to India and APAC, and interacting with our users, listening, and seeing what they are experiencing daily, helps us better understand and resolve the issues that they are facing.\\n\\nWe learned we need to work as one Team to help each other achieve a common goal.\\n\\nWe thought we knew how Teams Internet Routing works, but we all proven wrong as we took a deep dive on the how Microsoft deployed and use this technology.\\n\\nWe still have old legacy applications that are very latency sensitive.\\n\\nWhile escalations to upper management were raised, no actions were taken.\\n\\nWhile a sense of urgency was clear, it took a lot of time to make decisions.', metadata={'source': 'C:\\\\Users\\\\rod90731\\\\OneDrive - Black & Veatch\\\\Documents\\\\Jorge\\\\Python\\\\LLM Models\\\\Correction of Errors - APAC Performance (2.1).docx'})]"
      ]
     },
     "execution_count": 49,
     "metadata": {},
     "output_type": "execute_result"
    }
   ],
   "source": [
    "books"
   ]
  },
  {
   "cell_type": "markdown",
   "metadata": {},
   "source": [
    "## Splitting the text\n",
    "\n",
    "Feeding an entire book to the model is not feasible, as it would exceed its context window. To overcome this limitation, we must divide the text into smaller, more manageable chunks that fit comfortably within the model's context window.\n",
    "\n",
    "In our case, we will convert all four books to a chunk size of 500 characters."
   ]
  },
  {
   "cell_type": "code",
   "execution_count": 50,
   "metadata": {},
   "outputs": [],
   "source": [
    "from langchain_text_splitters import RecursiveCharacterTextSplitter\n",
    "\n",
    "#text_splitter = RecursiveCharacterTextSplitter(chunk_size=500, chunk_overlap=0)\n",
    "text_splitter = RecursiveCharacterTextSplitter(chunk_size=2000, chunk_overlap=200)\n",
    "all_splits = text_splitter.split_documents(books)\n"
   ]
  },
  {
   "cell_type": "code",
   "execution_count": 51,
   "metadata": {},
   "outputs": [
    {
     "data": {
      "text/plain": [
       "[Document(page_content='Correction of Errors (COE)\\n\\nAPAC Teams, Internet, and ProjectWise Performance Issues Correction of Errors\\n\\n\\u200d1.\\xa0Description of problem and its impact\\n\\n\\u200dDescription\\n\\nOver the past 18 months, and right after the RTO (Return to Office) Policy came up in January 2023, many of the professionals in the APAC region, and more specific in the Vikhroli, Pune and Bangkok offices started to notice and report performance issues while accessing the Internet, having Teams calls and accessing ProjectWise applications.\\n\\nBefore the COVID-19 Pandemic, most professionals in APAC and around the world did not have a good/reliable Internet service at home, as it was not the standard to work from home. During the Pandemic almost everybody invested in a good quality and reliable Internet Service at home, but the Office Bandwidth was not upgraded at all, and in some cases, the bandwidth was downgraded to save money on empty offices.\\n\\nThis huge discrepancy prior to the RTO decision, as we did not expect professionals to return to the office except for occasional meetings. Most Professionals had chosen the Virtual option and expected it to be permanent at that time, this oversight resulted in extremely deficient performance when the professionals started to return to the office and became an even more severe problem when the RTO policy came into effect in January 2023.\\n\\nData Collected\\n\\n\\u200dProfessionals at home have 500 Mbs. bandwidth Fiber and better service than when working in the offices for Teams calls and Internet Services.\\n\\nThe largest bandwidth available in the offices is 100 Mbps MPLS with latency of over 200 ms. to access internet services via our Singapore Datacenter.\\n\\nUsers’ home bandwidth could be as high as 1 Gbps, and latency to Internet services with less than 30 ms.\\n\\nThe OCIO does not currently have a testing method for applications.\\n\\nThe OCIO does not currently have an application performance tool to measure and alert when metrics are not meeting user expectations.', metadata={'source': 'C:\\\\Users\\\\rod90731\\\\OneDrive - Black & Veatch\\\\Documents\\\\Jorge\\\\Python\\\\LLM Models\\\\Correction of Errors - APAC Performance (2.1).docx'}),\n",
       " Document(page_content='The OCIO does not currently have an application performance tool to measure and alert when metrics are not meeting user expectations.\\n\\nThe OCIO does not currently have a Capacity Planning program for application Performance, Minimum bandwidth requirements and Minimum Latency requirements.\\n\\nPrioritization of other Projects towards World HQ Building in Overland Park, KS took precedence over APAC.\\n\\nThe Lack of full Stack Observability in all applications was a critical part to be proactive on solving the issues.\\n\\nThe Lack of knowledge on how Microsoft Teams works in a global environment created a not healthy environment for a successful deployment.\\n\\n\\n\\nThe Supply and Demand Challenges to deliver Hardware globally delayed a lot of the work in APAC region up to 12 months.\\n\\nThe lack of knowledge on SD-WAN Architectures and Technology caused a 12-month delay in the deployment of the innovative technology.\\n\\nThe Lack of knowledge on SASE Solutions and the integration with Zscaler APIs as innovative technology caused performance delays up to 1,000 ms at times during peak hours.\\n\\nThe Lack of QoS Settings Globally in End user Computers and Network Devices was a surprise as we all thought it was already deployed several years back.\\n\\nRegulatory issues in India to allow Equinix Services to Operate delayed 9 months the implementation of our Mumbai Datacenter and therefore all services related to it.\\n\\nMost of the APAC Offices have Legacy Infrastructure of 10-15 years old that causes performance issues over wireless (Wi-Fi) and wired networks.\\n\\nThe India office had been re-using obsolete IT equipment since at least 2021. During the visit we reminded them that this could impact the performance of Teams and other applications.\\n\\nLogon times up to 7 minutes had been reported since they began returning to the office. EUC and the network team had been working with them to resolve these issues.  While we were there, we completed additional troubleshooting, which continued after our visit.', metadata={'source': 'C:\\\\Users\\\\rod90731\\\\OneDrive - Black & Veatch\\\\Documents\\\\Jorge\\\\Python\\\\LLM Models\\\\Correction of Errors - APAC Performance (2.1).docx'}),\n",
       " Document(page_content='Customer Impact\\n\\nAll professionals in the main offices in APAC particularly India’s offices and Bangkok were affected with an estimation of over 2,000 professionals in the APAC Region.\\n\\n2. Root causes\\n\\nWhile we cannot pinpoint just one single root cause, we found several opportunities to improve.\\n\\nWe started to upgrade circuits in APAC to remove MPLS circuits and implemented a Software Defined Wide Area Network (SD-WAN) technology that will allows us to reduce latency and improve bandwidth. While the Intentions were on the correct path, we did not deploy it correctly due to technical knowledge gaps we had with the innovative technology we deployed (Cisco SD-WAN and ZScaler). Unfortunately, we did not recognize this sooner.\\n\\nWe did a Microsoft Network Assessment engagement to find out the areas where we needed to improve or correct to help improve the End User Experience and Teams quality; and not having a local DNS was one of the big recommendations from Microsoft, as well as QoS (Quality of Service –the process of marking Teams traffic for preferred bandwidth on the network).\\n\\nWe learned about MaxMind, an IP database that is being used by several major providers like Zscaler, Cisco and Microsoft (learned later in the process) to obtain GEO locations of internet traffic. Since we did not know about this, all traffic from Teams and other SAS services were being re-routed to USA, UK and Australia depending on which IP address they were using. The IP information was based on the local DNS we deployed earlier per Microsoft recommendations. Microsoft did not let us know that we needed to register all the IP Addresses within MaxMind Database.\\n\\n\\n\\nWe found out that the AD (Active Directory) read only setting for authentication did not work as designed, as we do not have to correct AD groups set up in the End User Devices to take advantage of it.', metadata={'source': 'C:\\\\Users\\\\rod90731\\\\OneDrive - Black & Veatch\\\\Documents\\\\Jorge\\\\Python\\\\LLM Models\\\\Correction of Errors - APAC Performance (2.1).docx'}),\n",
       " Document(page_content='ZScaler On-Ramp, Inspection and Datacenters latency issues in APAC region did not perform as we expected. Zscaler Datacenters in APAC, particularly in India, had latency and outage issues. The latency was not consistent and fluctuated from 100 ms. to 3,000 ms. during business hours and with no pattern that we or ZScaler could explain. This seriously affected Teams call quality and web-based application speeds.\\n\\nQoS Settings on PC were not being correctly implemented in production and not consistently configured on the network.\\n\\nAgainst the advice and recommendation of OCIO, Leaders in India have delayed purchasing new computers, and when they have purchased new computers have continued to use old docking stations to “save money”.  Despite repeated recommendations that they procure new equipment to ensure peak computer performance, they continued this practice until late in 2023. Hundreds of new docking stations were ordered and arrived, and they did not want their professionals to remove the old docks and plug in the new docks themselves.  They also only allowed techs to replace them a few at a time.  It therefore took many months to do what should have been done within days of receiving the docking stations.\\n\\nThe network infrastructure in India and Bangkok is 10-15 years old and needs to be replaced. It was never designed for the new workflows and demand we have today (Tech Debt).\\n\\nThe lack of testing assets in the regional office locations and lack of a performance monitoring tool prohibited our efficiency to actively monitor performance.\\n\\nThe India Government delayed over 9 months the permits to allow Equinix to conduct Business in India, which affected the implementation of the Mumbai Datacenter and therefore the Professionals ability to perform their job efficiently.\\n\\nThe lack of a capacity planning program inhibits us from planning and taking initiative-taking on Bandwidth constraints, Latency requirements and performance requirements.', metadata={'source': 'C:\\\\Users\\\\rod90731\\\\OneDrive - Black & Veatch\\\\Documents\\\\Jorge\\\\Python\\\\LLM Models\\\\Correction of Errors - APAC Performance (2.1).docx'}),\n",
       " Document(page_content='The lack of a capacity planning program inhibits us from planning and taking initiative-taking on Bandwidth constraints, Latency requirements and performance requirements.\\n\\nThe Global Supply and Demand issues delayed hardware delivery up to 12-15 months in some countries.\\n\\n3.\\xa0Corrective actions taken as today.\\n\\nBrought an SME on SD-WAN on a SoW to help us with the design and implementation.\\n\\nExpediated our implementation of a Virtual Mumbai Datacenter with connectivity to the Internet of 2 Gbps and securing a 1 Gbps point to point TATA Circuit from each office (Vikhroli and Pune). This allowed BV to bypass the Zscaler Network congestion by using a virtual Palo Alto Firewall to secure the traffic.\\n\\n\\n\\nBypassing Zscaler in Bangkok Office by locally terminating all Microsoft O365 traffic and sending all internet traffic to the BV Singapore Data Center.\\n\\nUpgraded Local Circuits to two 1 Gbps to have HA (High Availability) in India and Bangkok.\\n\\nImplementation of QoS on PCs and Network devices.\\n\\nReduce the latency from 150 ms. to 10 ms.\\n\\nWorking on a proposal to upgrade the Network infrastructure in India and Bangkok.\\n\\nReplaced all old docking stations in India.\\n\\nDocumented and updated MaxMind DB in all locations in APAC.\\n\\nWorking on a proposal to do a Tech-Refresh in APAC and EMEA to improve Performance on wire and wireless (Wi-Fi).\\n\\nResearching tools for Application Performance and Testing Methodologies.\\n\\nAdded a dedicated ProjectWise test asset in the Vikhroli office for performance testing and monitoring.\\n\\nPune and Bangkok offices are target destinations as well.\\n\\n4.\\xa0Lessons learned…good and bad\\n\\nWe learned that this issue was more complex than just a Teams performance issue or a network issue.\\n\\nWe thought we could deploy brand innovative technology with our current provider (Infosys) and were proven wrong.\\n\\nWe learned that it was more than just a network bandwidth issue and required a more inclusive team to work together to solve the issues.', metadata={'source': 'C:\\\\Users\\\\rod90731\\\\OneDrive - Black & Veatch\\\\Documents\\\\Jorge\\\\Python\\\\LLM Models\\\\Correction of Errors - APAC Performance (2.1).docx'}),\n",
       " Document(page_content='We learned that it was more than just a network bandwidth issue and required a more inclusive team to work together to solve the issues.\\n\\nWe learned we needed to ask for help.\\n\\nWe learned that by traveling to India and APAC, and interacting with our users, listening, and seeing what they are experiencing daily, helps us better understand and resolve the issues that they are facing.\\n\\nWe learned we need to work as one Team to help each other achieve a common goal.\\n\\nWe thought we knew how Teams Internet Routing works, but we all proven wrong as we took a deep dive on the how Microsoft deployed and use this technology.\\n\\nWe still have old legacy applications that are very latency sensitive.\\n\\nWhile escalations to upper management were raised, no actions were taken.\\n\\nWhile a sense of urgency was clear, it took a lot of time to make decisions.', metadata={'source': 'C:\\\\Users\\\\rod90731\\\\OneDrive - Black & Veatch\\\\Documents\\\\Jorge\\\\Python\\\\LLM Models\\\\Correction of Errors - APAC Performance (2.1).docx'})]"
      ]
     },
     "execution_count": 51,
     "metadata": {},
     "output_type": "execute_result"
    }
   ],
   "source": [
    "all_splits"
   ]
  },
  {
   "cell_type": "markdown",
   "metadata": {},
   "source": [
    "## Ollama embeddings and Chroma vector store\n",
    "\n",
    "We will use Langchain to convert the text into the embedding and store it in the Chroma database.\n",
    "\n",
    "We are using the Ollama Llama 3 model as an embedding model.\n"
   ]
  },
  {
   "cell_type": "code",
   "execution_count": 52,
   "metadata": {},
   "outputs": [
    {
     "name": "stderr",
     "output_type": "stream",
     "text": [
      "OllamaEmbeddings: 100%|██████████| 6/6 [10:37<00:00, 106.19s/it]\n"
     ]
    }
   ],
   "source": [
    "from langchain_chroma import Chroma\n",
    "from langchain_community.embeddings import OllamaEmbeddings\n",
    "\n",
    "vectorstore = Chroma.from_documents(\n",
    "    documents=all_splits,\n",
    "    embedding=OllamaEmbeddings(model=\"llama3\", show_progress=True),\n",
    "    persist_directory=\"./chroma_db\",\n",
    ")"
   ]
  },
  {
   "cell_type": "markdown",
   "metadata": {},
   "source": [
    "Let's test our vector database by performing some similarity searches."
   ]
  },
  {
   "cell_type": "code",
   "execution_count": 54,
   "metadata": {},
   "outputs": [
    {
     "name": "stderr",
     "output_type": "stream",
     "text": [
      "OllamaEmbeddings: 100%|██████████| 1/1 [00:03<00:00,  3.88s/it]\n"
     ]
    },
    {
     "data": {
      "text/plain": [
       "[Document(page_content='Having Key resources in APAC will allow us to have a continuous support in the key areas to make Black & Veatch at the professionals successful.', metadata={'source': 'C:\\\\Users\\\\rod90731\\\\OneDrive - Black & Veatch\\\\Documents\\\\Jorge\\\\Python\\\\LLM Models\\\\Future of Infosys - Proposal -Final.docx'}),\n",
       " Document(page_content='FTE can only support legacy technologies with few exceptions, while the limited B&V employees are the one ending up supporting them.', metadata={'source': 'C:\\\\Users\\\\rod90731\\\\OneDrive - Black & Veatch\\\\Documents\\\\Jorge\\\\Python\\\\LLM Models\\\\Future of Infosys - Proposal -Final.docx'}),\n",
       " Document(page_content='Another side effect we have seen, is that people are working overtime to compensate from this attitude which is reflected in frustration and not exceptionally good customer service experiences by Black & Veatch Employees.', metadata={'source': 'C:\\\\Users\\\\rod90731\\\\OneDrive - Black & Veatch\\\\Documents\\\\Jorge\\\\Python\\\\LLM Models\\\\Future of Infosys - Proposal -Final.docx'}),\n",
       " Document(page_content='Disadvantages of a Combination: Having a mixed environment will require more coordination and collaboration with the MSP(s) and the internal B&V resources to make sure everything is in perfect harmony since now, all parties will have to create a strong partnerships to guarantee that all services, knowledge, and levels of services are equally maintained, documented, and audited at all times.', metadata={'source': 'C:\\\\Users\\\\rod90731\\\\OneDrive - Black & Veatch\\\\Documents\\\\Jorge\\\\Python\\\\LLM Models\\\\Future of Infosys - Proposal -Final.docx'})]"
      ]
     },
     "execution_count": 54,
     "metadata": {},
     "output_type": "execute_result"
    }
   ],
   "source": [
    "question = \"Who is Infosys?\"\n",
    "question = \"10.10.7.11?\"\n",
    "question = \"Why APAC performance issues?\"\n",
    "docs = vectorstore.similarity_search(question)\n",
    "docs"
   ]
  },
  {
   "cell_type": "markdown",
   "metadata": {},
   "source": [
    "## Building Langchain chains for Q&A retrieval system\n",
    "\n",
    "To build a proper question-and-answer retrieval system, we will use Langchain chains and start adding the modules.\n",
    "\n",
    "In our Q&A chain, we will\n",
    "\n",
    "* Use vector store as the retriever and format the results.\n",
    "* After that, we will provide the RAG prompt. You can easily pull that from the Langchain Hub.\n",
    "* Then, we will provide the Ollama Llama 3 inference function.\n",
    "* In the end, we will parse the results only to display the response.\n",
    "\n",
    "Simply put, before passing it through the Llama 3 model, your question will be provided with context using the similarity search and RAG prompt.\n"
   ]
  },
  {
   "cell_type": "code",
   "execution_count": 55,
   "metadata": {},
   "outputs": [
    {
     "ename": "ConnectionError",
     "evalue": "HTTPSConnectionPool(host='api.hub.langchain.com', port=443): Max retries exceeded with url: /commits/rlm/rag-prompt/latest (Caused by NewConnectionError('<urllib3.connection.HTTPSConnection object at 0x000001E87274EED0>: Failed to establish a new connection: [WinError 10013] An attempt was made to access a socket in a way forbidden by its access permissions'))",
     "output_type": "error",
     "traceback": [
      "\u001b[1;31m---------------------------------------------------------------------------\u001b[0m",
      "\u001b[1;31mPermissionError\u001b[0m                           Traceback (most recent call last)",
      "\u001b[1;32mc:\\Users\\rod90731\\AppData\\Local\\Programs\\Python\\Python311\\Lib\\site-packages\\urllib3\\connection.py\u001b[0m in \u001b[0;36m_new_conn\u001b[1;34m(self)\u001b[0m\n\u001b[0;32m    197\u001b[0m         \u001b[1;32mtry\u001b[0m\u001b[1;33m:\u001b[0m\u001b[1;33m\u001b[0m\u001b[1;33m\u001b[0m\u001b[0m\n\u001b[1;32m--> 198\u001b[1;33m             sock = connection.create_connection(\n\u001b[0m\u001b[0;32m    199\u001b[0m                 \u001b[1;33m(\u001b[0m\u001b[0mself\u001b[0m\u001b[1;33m.\u001b[0m\u001b[0m_dns_host\u001b[0m\u001b[1;33m,\u001b[0m \u001b[0mself\u001b[0m\u001b[1;33m.\u001b[0m\u001b[0mport\u001b[0m\u001b[1;33m)\u001b[0m\u001b[1;33m,\u001b[0m\u001b[1;33m\u001b[0m\u001b[1;33m\u001b[0m\u001b[0m\n",
      "\u001b[1;32mc:\\Users\\rod90731\\AppData\\Local\\Programs\\Python\\Python311\\Lib\\site-packages\\urllib3\\util\\connection.py\u001b[0m in \u001b[0;36mcreate_connection\u001b[1;34m(address, timeout, source_address, socket_options)\u001b[0m\n\u001b[0;32m     84\u001b[0m         \u001b[1;32mtry\u001b[0m\u001b[1;33m:\u001b[0m\u001b[1;33m\u001b[0m\u001b[1;33m\u001b[0m\u001b[0m\n\u001b[1;32m---> 85\u001b[1;33m             \u001b[1;32mraise\u001b[0m \u001b[0merr\u001b[0m\u001b[1;33m\u001b[0m\u001b[1;33m\u001b[0m\u001b[0m\n\u001b[0m\u001b[0;32m     86\u001b[0m         \u001b[1;32mfinally\u001b[0m\u001b[1;33m:\u001b[0m\u001b[1;33m\u001b[0m\u001b[1;33m\u001b[0m\u001b[0m\n",
      "\u001b[1;32mc:\\Users\\rod90731\\AppData\\Local\\Programs\\Python\\Python311\\Lib\\site-packages\\urllib3\\util\\connection.py\u001b[0m in \u001b[0;36mcreate_connection\u001b[1;34m(address, timeout, source_address, socket_options)\u001b[0m\n\u001b[0;32m     72\u001b[0m                 \u001b[0msock\u001b[0m\u001b[1;33m.\u001b[0m\u001b[0mbind\u001b[0m\u001b[1;33m(\u001b[0m\u001b[0msource_address\u001b[0m\u001b[1;33m)\u001b[0m\u001b[1;33m\u001b[0m\u001b[1;33m\u001b[0m\u001b[0m\n\u001b[1;32m---> 73\u001b[1;33m             \u001b[0msock\u001b[0m\u001b[1;33m.\u001b[0m\u001b[0mconnect\u001b[0m\u001b[1;33m(\u001b[0m\u001b[0msa\u001b[0m\u001b[1;33m)\u001b[0m\u001b[1;33m\u001b[0m\u001b[1;33m\u001b[0m\u001b[0m\n\u001b[0m\u001b[0;32m     74\u001b[0m             \u001b[1;31m# Break explicitly a reference cycle\u001b[0m\u001b[1;33m\u001b[0m\u001b[1;33m\u001b[0m\u001b[0m\n",
      "\u001b[1;31mPermissionError\u001b[0m: [WinError 10013] An attempt was made to access a socket in a way forbidden by its access permissions",
      "\nThe above exception was the direct cause of the following exception:\n",
      "\u001b[1;31mNewConnectionError\u001b[0m                        Traceback (most recent call last)",
      "\u001b[1;32mc:\\Users\\rod90731\\AppData\\Local\\Programs\\Python\\Python311\\Lib\\site-packages\\urllib3\\connectionpool.py\u001b[0m in \u001b[0;36murlopen\u001b[1;34m(self, method, url, body, headers, retries, redirect, assert_same_host, timeout, pool_timeout, release_conn, chunked, body_pos, preload_content, decode_content, **response_kw)\u001b[0m\n\u001b[0;32m    792\u001b[0m             \u001b[1;31m# Make the request on the HTTPConnection object\u001b[0m\u001b[1;33m\u001b[0m\u001b[1;33m\u001b[0m\u001b[0m\n\u001b[1;32m--> 793\u001b[1;33m             response = self._make_request(\n\u001b[0m\u001b[0;32m    794\u001b[0m                 \u001b[0mconn\u001b[0m\u001b[1;33m,\u001b[0m\u001b[1;33m\u001b[0m\u001b[1;33m\u001b[0m\u001b[0m\n",
      "\u001b[1;32mc:\\Users\\rod90731\\AppData\\Local\\Programs\\Python\\Python311\\Lib\\site-packages\\urllib3\\connectionpool.py\u001b[0m in \u001b[0;36m_make_request\u001b[1;34m(self, conn, method, url, body, headers, retries, timeout, chunked, response_conn, preload_content, decode_content, enforce_content_length)\u001b[0m\n\u001b[0;32m    490\u001b[0m                 \u001b[0mnew_e\u001b[0m \u001b[1;33m=\u001b[0m \u001b[0m_wrap_proxy_error\u001b[0m\u001b[1;33m(\u001b[0m\u001b[0mnew_e\u001b[0m\u001b[1;33m,\u001b[0m \u001b[0mconn\u001b[0m\u001b[1;33m.\u001b[0m\u001b[0mproxy\u001b[0m\u001b[1;33m.\u001b[0m\u001b[0mscheme\u001b[0m\u001b[1;33m)\u001b[0m\u001b[1;33m\u001b[0m\u001b[1;33m\u001b[0m\u001b[0m\n\u001b[1;32m--> 491\u001b[1;33m             \u001b[1;32mraise\u001b[0m \u001b[0mnew_e\u001b[0m\u001b[1;33m\u001b[0m\u001b[1;33m\u001b[0m\u001b[0m\n\u001b[0m\u001b[0;32m    492\u001b[0m \u001b[1;33m\u001b[0m\u001b[0m\n",
      "\u001b[1;32mc:\\Users\\rod90731\\AppData\\Local\\Programs\\Python\\Python311\\Lib\\site-packages\\urllib3\\connectionpool.py\u001b[0m in \u001b[0;36m_make_request\u001b[1;34m(self, conn, method, url, body, headers, retries, timeout, chunked, response_conn, preload_content, decode_content, enforce_content_length)\u001b[0m\n\u001b[0;32m    466\u001b[0m             \u001b[1;32mtry\u001b[0m\u001b[1;33m:\u001b[0m\u001b[1;33m\u001b[0m\u001b[1;33m\u001b[0m\u001b[0m\n\u001b[1;32m--> 467\u001b[1;33m                 \u001b[0mself\u001b[0m\u001b[1;33m.\u001b[0m\u001b[0m_validate_conn\u001b[0m\u001b[1;33m(\u001b[0m\u001b[0mconn\u001b[0m\u001b[1;33m)\u001b[0m\u001b[1;33m\u001b[0m\u001b[1;33m\u001b[0m\u001b[0m\n\u001b[0m\u001b[0;32m    468\u001b[0m             \u001b[1;32mexcept\u001b[0m \u001b[1;33m(\u001b[0m\u001b[0mSocketTimeout\u001b[0m\u001b[1;33m,\u001b[0m \u001b[0mBaseSSLError\u001b[0m\u001b[1;33m)\u001b[0m \u001b[1;32mas\u001b[0m \u001b[0me\u001b[0m\u001b[1;33m:\u001b[0m\u001b[1;33m\u001b[0m\u001b[1;33m\u001b[0m\u001b[0m\n",
      "\u001b[1;32mc:\\Users\\rod90731\\AppData\\Local\\Programs\\Python\\Python311\\Lib\\site-packages\\urllib3\\connectionpool.py\u001b[0m in \u001b[0;36m_validate_conn\u001b[1;34m(self, conn)\u001b[0m\n\u001b[0;32m   1098\u001b[0m         \u001b[1;32mif\u001b[0m \u001b[0mconn\u001b[0m\u001b[1;33m.\u001b[0m\u001b[0mis_closed\u001b[0m\u001b[1;33m:\u001b[0m\u001b[1;33m\u001b[0m\u001b[1;33m\u001b[0m\u001b[0m\n\u001b[1;32m-> 1099\u001b[1;33m             \u001b[0mconn\u001b[0m\u001b[1;33m.\u001b[0m\u001b[0mconnect\u001b[0m\u001b[1;33m(\u001b[0m\u001b[1;33m)\u001b[0m\u001b[1;33m\u001b[0m\u001b[1;33m\u001b[0m\u001b[0m\n\u001b[0m\u001b[0;32m   1100\u001b[0m \u001b[1;33m\u001b[0m\u001b[0m\n",
      "\u001b[1;32mc:\\Users\\rod90731\\AppData\\Local\\Programs\\Python\\Python311\\Lib\\site-packages\\urllib3\\connection.py\u001b[0m in \u001b[0;36mconnect\u001b[1;34m(self)\u001b[0m\n\u001b[0;32m    615\u001b[0m         \u001b[0msock\u001b[0m\u001b[1;33m:\u001b[0m \u001b[0msocket\u001b[0m\u001b[1;33m.\u001b[0m\u001b[0msocket\u001b[0m \u001b[1;33m|\u001b[0m \u001b[0mssl\u001b[0m\u001b[1;33m.\u001b[0m\u001b[0mSSLSocket\u001b[0m\u001b[1;33m\u001b[0m\u001b[1;33m\u001b[0m\u001b[0m\n\u001b[1;32m--> 616\u001b[1;33m         \u001b[0mself\u001b[0m\u001b[1;33m.\u001b[0m\u001b[0msock\u001b[0m \u001b[1;33m=\u001b[0m \u001b[0msock\u001b[0m \u001b[1;33m=\u001b[0m \u001b[0mself\u001b[0m\u001b[1;33m.\u001b[0m\u001b[0m_new_conn\u001b[0m\u001b[1;33m(\u001b[0m\u001b[1;33m)\u001b[0m\u001b[1;33m\u001b[0m\u001b[1;33m\u001b[0m\u001b[0m\n\u001b[0m\u001b[0;32m    617\u001b[0m         \u001b[0mserver_hostname\u001b[0m\u001b[1;33m:\u001b[0m \u001b[0mstr\u001b[0m \u001b[1;33m=\u001b[0m \u001b[0mself\u001b[0m\u001b[1;33m.\u001b[0m\u001b[0mhost\u001b[0m\u001b[1;33m\u001b[0m\u001b[1;33m\u001b[0m\u001b[0m\n",
      "\u001b[1;32mc:\\Users\\rod90731\\AppData\\Local\\Programs\\Python\\Python311\\Lib\\site-packages\\urllib3\\connection.py\u001b[0m in \u001b[0;36m_new_conn\u001b[1;34m(self)\u001b[0m\n\u001b[0;32m    212\u001b[0m         \u001b[1;32mexcept\u001b[0m \u001b[0mOSError\u001b[0m \u001b[1;32mas\u001b[0m \u001b[0me\u001b[0m\u001b[1;33m:\u001b[0m\u001b[1;33m\u001b[0m\u001b[1;33m\u001b[0m\u001b[0m\n\u001b[1;32m--> 213\u001b[1;33m             raise NewConnectionError(\n\u001b[0m\u001b[0;32m    214\u001b[0m                 \u001b[0mself\u001b[0m\u001b[1;33m,\u001b[0m \u001b[1;34mf\"Failed to establish a new connection: {e}\"\u001b[0m\u001b[1;33m\u001b[0m\u001b[1;33m\u001b[0m\u001b[0m\n",
      "\u001b[1;31mNewConnectionError\u001b[0m: <urllib3.connection.HTTPSConnection object at 0x000001E87274EED0>: Failed to establish a new connection: [WinError 10013] An attempt was made to access a socket in a way forbidden by its access permissions",
      "\nThe above exception was the direct cause of the following exception:\n",
      "\u001b[1;31mMaxRetryError\u001b[0m                             Traceback (most recent call last)",
      "\u001b[1;32mc:\\Users\\rod90731\\AppData\\Local\\Programs\\Python\\Python311\\Lib\\site-packages\\requests\\adapters.py\u001b[0m in \u001b[0;36msend\u001b[1;34m(self, request, stream, timeout, verify, cert, proxies)\u001b[0m\n\u001b[0;32m    666\u001b[0m         \u001b[1;32mtry\u001b[0m\u001b[1;33m:\u001b[0m\u001b[1;33m\u001b[0m\u001b[1;33m\u001b[0m\u001b[0m\n\u001b[1;32m--> 667\u001b[1;33m             resp = conn.urlopen(\n\u001b[0m\u001b[0;32m    668\u001b[0m                 \u001b[0mmethod\u001b[0m\u001b[1;33m=\u001b[0m\u001b[0mrequest\u001b[0m\u001b[1;33m.\u001b[0m\u001b[0mmethod\u001b[0m\u001b[1;33m,\u001b[0m\u001b[1;33m\u001b[0m\u001b[1;33m\u001b[0m\u001b[0m\n",
      "\u001b[1;32mc:\\Users\\rod90731\\AppData\\Local\\Programs\\Python\\Python311\\Lib\\site-packages\\urllib3\\connectionpool.py\u001b[0m in \u001b[0;36murlopen\u001b[1;34m(self, method, url, body, headers, retries, redirect, assert_same_host, timeout, pool_timeout, release_conn, chunked, body_pos, preload_content, decode_content, **response_kw)\u001b[0m\n\u001b[0;32m    846\u001b[0m \u001b[1;33m\u001b[0m\u001b[0m\n\u001b[1;32m--> 847\u001b[1;33m             retries = retries.increment(\n\u001b[0m\u001b[0;32m    848\u001b[0m                 \u001b[0mmethod\u001b[0m\u001b[1;33m,\u001b[0m \u001b[0murl\u001b[0m\u001b[1;33m,\u001b[0m \u001b[0merror\u001b[0m\u001b[1;33m=\u001b[0m\u001b[0mnew_e\u001b[0m\u001b[1;33m,\u001b[0m \u001b[0m_pool\u001b[0m\u001b[1;33m=\u001b[0m\u001b[0mself\u001b[0m\u001b[1;33m,\u001b[0m \u001b[0m_stacktrace\u001b[0m\u001b[1;33m=\u001b[0m\u001b[0msys\u001b[0m\u001b[1;33m.\u001b[0m\u001b[0mexc_info\u001b[0m\u001b[1;33m(\u001b[0m\u001b[1;33m)\u001b[0m\u001b[1;33m[\u001b[0m\u001b[1;36m2\u001b[0m\u001b[1;33m]\u001b[0m\u001b[1;33m\u001b[0m\u001b[1;33m\u001b[0m\u001b[0m\n",
      "\u001b[1;32mc:\\Users\\rod90731\\AppData\\Local\\Programs\\Python\\Python311\\Lib\\site-packages\\urllib3\\util\\retry.py\u001b[0m in \u001b[0;36mincrement\u001b[1;34m(self, method, url, response, error, _pool, _stacktrace)\u001b[0m\n\u001b[0;32m    514\u001b[0m             \u001b[0mreason\u001b[0m \u001b[1;33m=\u001b[0m \u001b[0merror\u001b[0m \u001b[1;32mor\u001b[0m \u001b[0mResponseError\u001b[0m\u001b[1;33m(\u001b[0m\u001b[0mcause\u001b[0m\u001b[1;33m)\u001b[0m\u001b[1;33m\u001b[0m\u001b[1;33m\u001b[0m\u001b[0m\n\u001b[1;32m--> 515\u001b[1;33m             \u001b[1;32mraise\u001b[0m \u001b[0mMaxRetryError\u001b[0m\u001b[1;33m(\u001b[0m\u001b[0m_pool\u001b[0m\u001b[1;33m,\u001b[0m \u001b[0murl\u001b[0m\u001b[1;33m,\u001b[0m \u001b[0mreason\u001b[0m\u001b[1;33m)\u001b[0m \u001b[1;32mfrom\u001b[0m \u001b[0mreason\u001b[0m  \u001b[1;31m# type: ignore[arg-type]\u001b[0m\u001b[1;33m\u001b[0m\u001b[1;33m\u001b[0m\u001b[0m\n\u001b[0m\u001b[0;32m    516\u001b[0m \u001b[1;33m\u001b[0m\u001b[0m\n",
      "\u001b[1;31mMaxRetryError\u001b[0m: HTTPSConnectionPool(host='api.hub.langchain.com', port=443): Max retries exceeded with url: /commits/rlm/rag-prompt/latest (Caused by NewConnectionError('<urllib3.connection.HTTPSConnection object at 0x000001E87274EED0>: Failed to establish a new connection: [WinError 10013] An attempt was made to access a socket in a way forbidden by its access permissions'))",
      "\nDuring handling of the above exception, another exception occurred:\n",
      "\u001b[1;31mConnectionError\u001b[0m                           Traceback (most recent call last)",
      "\u001b[1;32m~\\AppData\\Local\\Temp\\ipykernel_3912\\2695149408.py\u001b[0m in \u001b[0;36m<module>\u001b[1;34m\u001b[0m\n\u001b[0;32m     13\u001b[0m \u001b[1;33m\u001b[0m\u001b[0m\n\u001b[0;32m     14\u001b[0m \u001b[1;33m\u001b[0m\u001b[0m\n\u001b[1;32m---> 15\u001b[1;33m \u001b[0mrag_prompt\u001b[0m \u001b[1;33m=\u001b[0m \u001b[0mhub\u001b[0m\u001b[1;33m.\u001b[0m\u001b[0mpull\u001b[0m\u001b[1;33m(\u001b[0m\u001b[1;34m\"rlm/rag-prompt\"\u001b[0m\u001b[1;33m)\u001b[0m\u001b[1;33m\u001b[0m\u001b[1;33m\u001b[0m\u001b[0m\n\u001b[0m\u001b[0;32m     16\u001b[0m qa_chain = (\n\u001b[0;32m     17\u001b[0m     \u001b[1;33m{\u001b[0m\u001b[1;34m\"context\"\u001b[0m\u001b[1;33m:\u001b[0m \u001b[0mretriever\u001b[0m \u001b[1;33m|\u001b[0m \u001b[0mformat_docs\u001b[0m\u001b[1;33m,\u001b[0m \u001b[1;34m\"question\"\u001b[0m\u001b[1;33m:\u001b[0m \u001b[0mRunnablePassthrough\u001b[0m\u001b[1;33m(\u001b[0m\u001b[1;33m)\u001b[0m\u001b[1;33m}\u001b[0m\u001b[1;33m\u001b[0m\u001b[1;33m\u001b[0m\u001b[0m\n",
      "\u001b[1;32mc:\\Users\\rod90731\\AppData\\Local\\Programs\\Python\\Python311\\Lib\\site-packages\\langchain\\hub.py\u001b[0m in \u001b[0;36mpull\u001b[1;34m(owner_repo_commit, api_url, api_key)\u001b[0m\n\u001b[0;32m     84\u001b[0m     \u001b[1;32mif\u001b[0m \u001b[0mhasattr\u001b[0m\u001b[1;33m(\u001b[0m\u001b[0mclient\u001b[0m\u001b[1;33m,\u001b[0m \u001b[1;34m\"pull_repo\"\u001b[0m\u001b[1;33m)\u001b[0m\u001b[1;33m:\u001b[0m\u001b[1;33m\u001b[0m\u001b[1;33m\u001b[0m\u001b[0m\n\u001b[0;32m     85\u001b[0m         \u001b[1;31m# >= 0.1.15\u001b[0m\u001b[1;33m\u001b[0m\u001b[1;33m\u001b[0m\u001b[0m\n\u001b[1;32m---> 86\u001b[1;33m         \u001b[0mres_dict\u001b[0m \u001b[1;33m=\u001b[0m \u001b[0mclient\u001b[0m\u001b[1;33m.\u001b[0m\u001b[0mpull_repo\u001b[0m\u001b[1;33m(\u001b[0m\u001b[0mowner_repo_commit\u001b[0m\u001b[1;33m)\u001b[0m\u001b[1;33m\u001b[0m\u001b[1;33m\u001b[0m\u001b[0m\n\u001b[0m\u001b[0;32m     87\u001b[0m         \u001b[0mobj\u001b[0m \u001b[1;33m=\u001b[0m \u001b[0mloads\u001b[0m\u001b[1;33m(\u001b[0m\u001b[0mjson\u001b[0m\u001b[1;33m.\u001b[0m\u001b[0mdumps\u001b[0m\u001b[1;33m(\u001b[0m\u001b[0mres_dict\u001b[0m\u001b[1;33m[\u001b[0m\u001b[1;34m\"manifest\"\u001b[0m\u001b[1;33m]\u001b[0m\u001b[1;33m)\u001b[0m\u001b[1;33m)\u001b[0m\u001b[1;33m\u001b[0m\u001b[1;33m\u001b[0m\u001b[0m\n\u001b[0;32m     88\u001b[0m         \u001b[1;32mif\u001b[0m \u001b[0misinstance\u001b[0m\u001b[1;33m(\u001b[0m\u001b[0mobj\u001b[0m\u001b[1;33m,\u001b[0m \u001b[0mBasePromptTemplate\u001b[0m\u001b[1;33m)\u001b[0m\u001b[1;33m:\u001b[0m\u001b[1;33m\u001b[0m\u001b[1;33m\u001b[0m\u001b[0m\n",
      "\u001b[1;32mc:\\Users\\rod90731\\AppData\\Local\\Programs\\Python\\Python311\\Lib\\site-packages\\langchainhub\\client.py\u001b[0m in \u001b[0;36mpull_repo\u001b[1;34m(self, owner_repo_commit)\u001b[0m\n\u001b[0;32m    273\u001b[0m     \u001b[1;32mdef\u001b[0m \u001b[0mpull_repo\u001b[0m\u001b[1;33m(\u001b[0m\u001b[0mself\u001b[0m\u001b[1;33m,\u001b[0m \u001b[0mowner_repo_commit\u001b[0m\u001b[1;33m:\u001b[0m \u001b[0mstr\u001b[0m\u001b[1;33m)\u001b[0m \u001b[1;33m->\u001b[0m \u001b[0m_types\u001b[0m\u001b[1;33m.\u001b[0m\u001b[0mRepo\u001b[0m\u001b[1;33m:\u001b[0m\u001b[1;33m\u001b[0m\u001b[1;33m\u001b[0m\u001b[0m\n\u001b[0;32m    274\u001b[0m         \u001b[0mowner\u001b[0m\u001b[1;33m,\u001b[0m \u001b[0mrepo\u001b[0m\u001b[1;33m,\u001b[0m \u001b[0mcommit_hash\u001b[0m \u001b[1;33m=\u001b[0m \u001b[0mparse_owner_repo_commit\u001b[0m\u001b[1;33m(\u001b[0m\u001b[0mowner_repo_commit\u001b[0m\u001b[1;33m)\u001b[0m\u001b[1;33m\u001b[0m\u001b[1;33m\u001b[0m\u001b[0m\n\u001b[1;32m--> 275\u001b[1;33m         res = requests.get(\n\u001b[0m\u001b[0;32m    276\u001b[0m             \u001b[1;34mf\"{self.api_url}/commits/{owner}/{repo}/{commit_hash}\"\u001b[0m\u001b[1;33m,\u001b[0m\u001b[1;33m\u001b[0m\u001b[1;33m\u001b[0m\u001b[0m\n\u001b[0;32m    277\u001b[0m             \u001b[0mheaders\u001b[0m\u001b[1;33m=\u001b[0m\u001b[0mself\u001b[0m\u001b[1;33m.\u001b[0m\u001b[0m_get_headers\u001b[0m\u001b[1;33m(\u001b[0m\u001b[1;33m)\u001b[0m\u001b[1;33m,\u001b[0m\u001b[1;33m\u001b[0m\u001b[1;33m\u001b[0m\u001b[0m\n",
      "\u001b[1;32mc:\\Users\\rod90731\\AppData\\Local\\Programs\\Python\\Python311\\Lib\\site-packages\\requests\\api.py\u001b[0m in \u001b[0;36mget\u001b[1;34m(url, params, **kwargs)\u001b[0m\n\u001b[0;32m     71\u001b[0m     \"\"\"\n\u001b[0;32m     72\u001b[0m \u001b[1;33m\u001b[0m\u001b[0m\n\u001b[1;32m---> 73\u001b[1;33m     \u001b[1;32mreturn\u001b[0m \u001b[0mrequest\u001b[0m\u001b[1;33m(\u001b[0m\u001b[1;34m\"get\"\u001b[0m\u001b[1;33m,\u001b[0m \u001b[0murl\u001b[0m\u001b[1;33m,\u001b[0m \u001b[0mparams\u001b[0m\u001b[1;33m=\u001b[0m\u001b[0mparams\u001b[0m\u001b[1;33m,\u001b[0m \u001b[1;33m**\u001b[0m\u001b[0mkwargs\u001b[0m\u001b[1;33m)\u001b[0m\u001b[1;33m\u001b[0m\u001b[1;33m\u001b[0m\u001b[0m\n\u001b[0m\u001b[0;32m     74\u001b[0m \u001b[1;33m\u001b[0m\u001b[0m\n\u001b[0;32m     75\u001b[0m \u001b[1;33m\u001b[0m\u001b[0m\n",
      "\u001b[1;32mc:\\Users\\rod90731\\AppData\\Local\\Programs\\Python\\Python311\\Lib\\site-packages\\requests\\api.py\u001b[0m in \u001b[0;36mrequest\u001b[1;34m(method, url, **kwargs)\u001b[0m\n\u001b[0;32m     57\u001b[0m     \u001b[1;31m# cases, and look like a memory leak in others.\u001b[0m\u001b[1;33m\u001b[0m\u001b[1;33m\u001b[0m\u001b[0m\n\u001b[0;32m     58\u001b[0m     \u001b[1;32mwith\u001b[0m \u001b[0msessions\u001b[0m\u001b[1;33m.\u001b[0m\u001b[0mSession\u001b[0m\u001b[1;33m(\u001b[0m\u001b[1;33m)\u001b[0m \u001b[1;32mas\u001b[0m \u001b[0msession\u001b[0m\u001b[1;33m:\u001b[0m\u001b[1;33m\u001b[0m\u001b[1;33m\u001b[0m\u001b[0m\n\u001b[1;32m---> 59\u001b[1;33m         \u001b[1;32mreturn\u001b[0m \u001b[0msession\u001b[0m\u001b[1;33m.\u001b[0m\u001b[0mrequest\u001b[0m\u001b[1;33m(\u001b[0m\u001b[0mmethod\u001b[0m\u001b[1;33m=\u001b[0m\u001b[0mmethod\u001b[0m\u001b[1;33m,\u001b[0m \u001b[0murl\u001b[0m\u001b[1;33m=\u001b[0m\u001b[0murl\u001b[0m\u001b[1;33m,\u001b[0m \u001b[1;33m**\u001b[0m\u001b[0mkwargs\u001b[0m\u001b[1;33m)\u001b[0m\u001b[1;33m\u001b[0m\u001b[1;33m\u001b[0m\u001b[0m\n\u001b[0m\u001b[0;32m     60\u001b[0m \u001b[1;33m\u001b[0m\u001b[0m\n\u001b[0;32m     61\u001b[0m \u001b[1;33m\u001b[0m\u001b[0m\n",
      "\u001b[1;32mc:\\Users\\rod90731\\AppData\\Local\\Programs\\Python\\Python311\\Lib\\site-packages\\requests\\sessions.py\u001b[0m in \u001b[0;36mrequest\u001b[1;34m(self, method, url, params, data, headers, cookies, files, auth, timeout, allow_redirects, proxies, hooks, stream, verify, cert, json)\u001b[0m\n\u001b[0;32m    587\u001b[0m         }\n\u001b[0;32m    588\u001b[0m         \u001b[0msend_kwargs\u001b[0m\u001b[1;33m.\u001b[0m\u001b[0mupdate\u001b[0m\u001b[1;33m(\u001b[0m\u001b[0msettings\u001b[0m\u001b[1;33m)\u001b[0m\u001b[1;33m\u001b[0m\u001b[1;33m\u001b[0m\u001b[0m\n\u001b[1;32m--> 589\u001b[1;33m         \u001b[0mresp\u001b[0m \u001b[1;33m=\u001b[0m \u001b[0mself\u001b[0m\u001b[1;33m.\u001b[0m\u001b[0msend\u001b[0m\u001b[1;33m(\u001b[0m\u001b[0mprep\u001b[0m\u001b[1;33m,\u001b[0m \u001b[1;33m**\u001b[0m\u001b[0msend_kwargs\u001b[0m\u001b[1;33m)\u001b[0m\u001b[1;33m\u001b[0m\u001b[1;33m\u001b[0m\u001b[0m\n\u001b[0m\u001b[0;32m    590\u001b[0m \u001b[1;33m\u001b[0m\u001b[0m\n\u001b[0;32m    591\u001b[0m         \u001b[1;32mreturn\u001b[0m \u001b[0mresp\u001b[0m\u001b[1;33m\u001b[0m\u001b[1;33m\u001b[0m\u001b[0m\n",
      "\u001b[1;32mc:\\Users\\rod90731\\AppData\\Local\\Programs\\Python\\Python311\\Lib\\site-packages\\requests\\sessions.py\u001b[0m in \u001b[0;36msend\u001b[1;34m(self, request, **kwargs)\u001b[0m\n\u001b[0;32m    701\u001b[0m \u001b[1;33m\u001b[0m\u001b[0m\n\u001b[0;32m    702\u001b[0m         \u001b[1;31m# Send the request\u001b[0m\u001b[1;33m\u001b[0m\u001b[1;33m\u001b[0m\u001b[0m\n\u001b[1;32m--> 703\u001b[1;33m         \u001b[0mr\u001b[0m \u001b[1;33m=\u001b[0m \u001b[0madapter\u001b[0m\u001b[1;33m.\u001b[0m\u001b[0msend\u001b[0m\u001b[1;33m(\u001b[0m\u001b[0mrequest\u001b[0m\u001b[1;33m,\u001b[0m \u001b[1;33m**\u001b[0m\u001b[0mkwargs\u001b[0m\u001b[1;33m)\u001b[0m\u001b[1;33m\u001b[0m\u001b[1;33m\u001b[0m\u001b[0m\n\u001b[0m\u001b[0;32m    704\u001b[0m \u001b[1;33m\u001b[0m\u001b[0m\n\u001b[0;32m    705\u001b[0m         \u001b[1;31m# Total elapsed time of the request (approximately)\u001b[0m\u001b[1;33m\u001b[0m\u001b[1;33m\u001b[0m\u001b[0m\n",
      "\u001b[1;32mc:\\Users\\rod90731\\AppData\\Local\\Programs\\Python\\Python311\\Lib\\site-packages\\requests\\adapters.py\u001b[0m in \u001b[0;36msend\u001b[1;34m(self, request, stream, timeout, verify, cert, proxies)\u001b[0m\n\u001b[0;32m    698\u001b[0m                 \u001b[1;32mraise\u001b[0m \u001b[0mSSLError\u001b[0m\u001b[1;33m(\u001b[0m\u001b[0me\u001b[0m\u001b[1;33m,\u001b[0m \u001b[0mrequest\u001b[0m\u001b[1;33m=\u001b[0m\u001b[0mrequest\u001b[0m\u001b[1;33m)\u001b[0m\u001b[1;33m\u001b[0m\u001b[1;33m\u001b[0m\u001b[0m\n\u001b[0;32m    699\u001b[0m \u001b[1;33m\u001b[0m\u001b[0m\n\u001b[1;32m--> 700\u001b[1;33m             \u001b[1;32mraise\u001b[0m \u001b[0mConnectionError\u001b[0m\u001b[1;33m(\u001b[0m\u001b[0me\u001b[0m\u001b[1;33m,\u001b[0m \u001b[0mrequest\u001b[0m\u001b[1;33m=\u001b[0m\u001b[0mrequest\u001b[0m\u001b[1;33m)\u001b[0m\u001b[1;33m\u001b[0m\u001b[1;33m\u001b[0m\u001b[0m\n\u001b[0m\u001b[0;32m    701\u001b[0m \u001b[1;33m\u001b[0m\u001b[0m\n\u001b[0;32m    702\u001b[0m         \u001b[1;32mexcept\u001b[0m \u001b[0mClosedPoolError\u001b[0m \u001b[1;32mas\u001b[0m \u001b[0me\u001b[0m\u001b[1;33m:\u001b[0m\u001b[1;33m\u001b[0m\u001b[1;33m\u001b[0m\u001b[0m\n",
      "\u001b[1;31mConnectionError\u001b[0m: HTTPSConnectionPool(host='api.hub.langchain.com', port=443): Max retries exceeded with url: /commits/rlm/rag-prompt/latest (Caused by NewConnectionError('<urllib3.connection.HTTPSConnection object at 0x000001E87274EED0>: Failed to establish a new connection: [WinError 10013] An attempt was made to access a socket in a way forbidden by its access permissions'))"
     ]
    }
   ],
   "source": [
    "from langchain import hub\n",
    "from langchain_community.llms import Ollama\n",
    "from langchain_core.output_parsers import StrOutputParser\n",
    "from langchain_core.runnables import RunnablePassthrough\n",
    "\n",
    "llm = Ollama(model=\"llama3\")\n",
    "\n",
    "retriever = vectorstore.as_retriever()\n",
    "\n",
    "\n",
    "def format_docs(docs):\n",
    "    return \"\\n\\n\".join(doc.page_content for doc in docs)\n",
    "\n",
    "\n",
    "rag_prompt = hub.pull(\"rlm/rag-prompt\")\n",
    "qa_chain = (\n",
    "    {\"context\": retriever | format_docs, \"question\": RunnablePassthrough()}\n",
    "    | rag_prompt\n",
    "    | llm\n",
    "    | StrOutputParser()\n",
    ")"
   ]
  },
  {
   "cell_type": "markdown",
   "metadata": {},
   "source": [
    "## Testing the Q&A retrieval chain\n",
    "\n",
    "Ask relevant questions about books to understand more about the story.\n"
   ]
  },
  {
   "cell_type": "code",
   "execution_count": 35,
   "metadata": {},
   "outputs": [
    {
     "name": "stderr",
     "output_type": "stream",
     "text": [
      "OllamaEmbeddings: 100%|██████████| 1/1 [00:03<00:00,  3.27s/it]\n"
     ]
    },
    {
     "data": {
      "text/plain": [
       "\"Infosys is an Indian IT company that provides primary IT management services globally, including help desk support, PC support, and infrastructure services like network and cloud. They have been providing these services to Black & Veatch for several years, but their capabilities no longer align with the company's current organizational structure and vision for the next 5 years. As a result, Black & Veatch has had to bring in external companies with subject matter experts to help overcome issues with Infosys, resulting in additional expenses.\""
      ]
     },
     "execution_count": 35,
     "metadata": {},
     "output_type": "execute_result"
    }
   ],
   "source": [
    "question = \"What is the story of Infosys?\"\n",
    "qa_chain.invoke(question)"
   ]
  },
  {
   "cell_type": "code",
   "execution_count": 22,
   "metadata": {},
   "outputs": [
    {
     "name": "stderr",
     "output_type": "stream",
     "text": [
      "OllamaEmbeddings: 100%|██████████| 1/1 [00:12<00:00, 12.50s/it]\n"
     ]
    },
    {
     "data": {
      "text/plain": [
       "'The story of Black & Veatch is not explicitly mentioned in the provided context. However, it seems that Black & Veatch is an organization that provides infrastructure services and has a global presence, with the goal of ensuring high-quality service delivery through strategic resource allocation and management. The context suggests that the company aims to improve its performance by leveraging key resources in Asia-Pacific (APAC) and optimizing its operations for better customer experiences.'"
      ]
     },
     "execution_count": 22,
     "metadata": {},
     "output_type": "execute_result"
    }
   ],
   "source": [
    "question = \"What is the story of Black & Veatch?\"\n",
    "qa_chain.invoke(question)"
   ]
  },
  {
   "cell_type": "code",
   "execution_count": 38,
   "metadata": {},
   "outputs": [
    {
     "name": "stderr",
     "output_type": "stream",
     "text": [
      "OllamaEmbeddings: 100%|██████████| 1/1 [00:03<00:00,  3.98s/it]\n"
     ]
    },
    {
     "data": {
      "text/plain": [
       "'The interface GigabitEthernet0/0/2.12 is used on the platform SGDCRTINET01.'"
      ]
     },
     "execution_count": 38,
     "metadata": {},
     "output_type": "execute_result"
    }
   ],
   "source": [
    "question = \"where interface GigabitEthernet0/0/2.12 used?\"\n",
    "qa_chain.invoke(question)"
   ]
  },
  {
   "cell_type": "code",
   "execution_count": 56,
   "metadata": {},
   "outputs": [
    {
     "name": "stderr",
     "output_type": "stream",
     "text": [
      "OllamaEmbeddings: 100%|██████████| 1/1 [00:04<00:00,  4.42s/it]\n"
     ]
    },
    {
     "data": {
      "text/plain": [
       "'Based on the provided context, it appears that APAC Performance Issues are likely due to the limited availability of B&V employees who are burdened with supporting legacy technologies, leading to frustration and negative impacts on customer service. This situation may have contributed to overtime work, resulting in decreased morale and overall performance.'"
      ]
     },
     "execution_count": 56,
     "metadata": {},
     "output_type": "execute_result"
    }
   ],
   "source": [
    "question = \"why we had APAC Performance Issues?\"\n",
    "qa_chain.invoke(question)"
   ]
  }
 ],
 "metadata": {
  "kernelspec": {
   "display_name": "Python 3",
   "language": "python",
   "name": "python3"
  },
  "language_info": {
   "codemirror_mode": {
    "name": "ipython",
    "version": 3
   },
   "file_extension": ".py",
   "mimetype": "text/x-python",
   "name": "python",
   "nbconvert_exporter": "python",
   "pygments_lexer": "ipython3",
   "version": "3.11.3"
  }
 },
 "nbformat": 4,
 "nbformat_minor": 2
}
