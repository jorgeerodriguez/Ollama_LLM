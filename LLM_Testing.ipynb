{
 "cells": [
  {
   "cell_type": "code",
   "execution_count": 1,
   "metadata": {},
   "outputs": [],
   "source": [
    "import ollama"
   ]
  },
  {
   "cell_type": "code",
   "execution_count": 2,
   "metadata": {},
   "outputs": [],
   "source": [
    "def ask_llm():\n",
    "    print(\"ASK LLM.....\")\n",
    "    response = ollama.chat(\n",
    "        model=\"llama3\",\n",
    "        messages=[\n",
    "            {\n",
    "                \"role\": \"user\",\n",
    "                \"content\": \"Tell me an interesting fact about elephants\",\n",
    "            },\n",
    "        ],\n",
    "    )\n",
    "    print(response[\"message\"][\"content\"])"
   ]
  },
  {
   "cell_type": "code",
   "execution_count": 3,
   "metadata": {},
   "outputs": [
    {
     "name": "stdout",
     "output_type": "stream",
     "text": [
      "ASK LLM.....\n",
      "Here's one:\n",
      "\n",
      "**Elephants have a highly developed brain and are considered one of the smartest animals on Earth.**\n",
      "\n",
      "In fact, their brains are similar in structure and function to those of humans and dolphins. They have been known to exhibit self-awareness, empathy, cooperation, and even altruism. Here are some fascinating examples:\n",
      "\n",
      "* Elephants have been observed showing compassion towards each other when one is grieving or distressed.\n",
      "* They have a sophisticated communication system that includes vocalizations (like trumpeting), body language, and even touch (like gentle stroking with their trunks).\n",
      "* They can remember and recognize individual members of their herd, as well as human caregivers, after many years.\n",
      "* Elephants have been known to help each other in times of need, like rescuing a trapped family member or providing food for another elephant who has lost its way.\n",
      "\n",
      "These cognitive abilities are thought to be linked to the development of large brain-to-body mass ratios, similar to those found in humans and dolphins. In fact, elephants have one of the largest brains among land animals, weighing around 5 kg (11 lbs) each!\n"
     ]
    }
   ],
   "source": [
    "ask_llm()"
   ]
  }
 ],
 "metadata": {
  "kernelspec": {
   "display_name": "Python 3",
   "language": "python",
   "name": "python3"
  },
  "language_info": {
   "codemirror_mode": {
    "name": "ipython",
    "version": 3
   },
   "file_extension": ".py",
   "mimetype": "text/x-python",
   "name": "python",
   "nbconvert_exporter": "python",
   "pygments_lexer": "ipython3",
   "version": "3.11.3"
  }
 },
 "nbformat": 4,
 "nbformat_minor": 2
}
