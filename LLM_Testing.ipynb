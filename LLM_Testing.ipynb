{
 "cells": [
  {
   "cell_type": "markdown",
   "metadata": {},
   "source": [
    "# OLLAMA - LLM\n",
    "* https://medium.com/techcraft-chronicles/how-to-use-llama-3-2-with-ollama-using-python-e816162e9184\n",
    "\n",
    "* https://medium.com/@tapanbabbar/how-to-run-llama-3-2-vision-on-ollama-a-game-changer-for-edge-ai-80cb0e8d8928\n",
    "\n"
   ]
  },
  {
   "cell_type": "code",
   "execution_count": 12,
   "metadata": {},
   "outputs": [],
   "source": [
    "from ollama import chat\n",
    "from ollama import ChatResponse"
   ]
  },
  {
   "cell_type": "code",
   "execution_count": 48,
   "metadata": {},
   "outputs": [
    {
     "name": "stdout",
     "output_type": "stream",
     "text": [
      "The sky appears blue to us because of a phenomenon called Rayleigh scattering, named after the British physicist Lord Rayleigh, who first described it in the late 19th century. Here's a simplified explanation:\n",
      "\n",
      "When sunlight enters Earth's atmosphere, it consists of a broad spectrum of colors, including all the different wavelengths of light. The shorter wavelengths, like blue and violet, are scattered more than the longer wavelengths, like red and orange, by the tiny molecules of gases in the atmosphere.\n",
      "\n",
      "This scattering effect is more pronounced when the Sun is high in the sky, as it means there are more molecules to scatter the shorter wavelengths. As a result, the blue light is dispersed in all directions, giving the sky its blue appearance.\n",
      "\n",
      "There are a few reasons why this phenomenon happens:\n",
      "\n",
      "1. **Atmospheric composition**: The Earth's atmosphere contains gases like nitrogen (N2) and oxygen (O2), which scatter sunlight in all directions. The amount of these gases can vary depending on factors like altitude, temperature, and pollution levels.\n",
      "2. **Sunlight intensity**: When the Sun is high in the sky, more energy is being emitted, and the scattered blue light is more intense.\n",
      "3. **Angular perspective**: From our vantage point on Earth, we see the scattered light coming from all directions, making the sky appear blue.\n",
      "\n",
      "It's worth noting that during sunrise and sunset, the sun's rays have to travel through a longer path in the atmosphere, which scatters the shorter wavelengths of light, leaving mainly red and orange colors to reach our eyes. This is why the sky often appears more red or orange during these times.\n",
      "\n",
      "I hope this explanation helps you understand why the sky is blue!\n",
      "The sky appears blue to us because of a phenomenon called Rayleigh scattering, named after the British physicist Lord Rayleigh, who first described it in the late 19th century. Here's a simplified explanation:\n",
      "\n",
      "When sunlight enters Earth's atmosphere, it consists of a broad spectrum of colors, including all the different wavelengths of light. The shorter wavelengths, like blue and violet, are scattered more than the longer wavelengths, like red and orange, by the tiny molecules of gases in the atmosphere.\n",
      "\n",
      "This scattering effect is more pronounced when the Sun is high in the sky, as it means there are more molecules to scatter the shorter wavelengths. As a result, the blue light is dispersed in all directions, giving the sky its blue appearance.\n",
      "\n",
      "There are a few reasons why this phenomenon happens:\n",
      "\n",
      "1. **Atmospheric composition**: The Earth's atmosphere contains gases like nitrogen (N2) and oxygen (O2), which scatter sunlight in all directions. The amount of these gases can vary depending on factors like altitude, temperature, and pollution levels.\n",
      "2. **Sunlight intensity**: When the Sun is high in the sky, more energy is being emitted, and the scattered blue light is more intense.\n",
      "3. **Angular perspective**: From our vantage point on Earth, we see the scattered light coming from all directions, making the sky appear blue.\n",
      "\n",
      "It's worth noting that during sunrise and sunset, the sun's rays have to travel through a longer path in the atmosphere, which scatters the shorter wavelengths of light, leaving mainly red and orange colors to reach our eyes. This is why the sky often appears more red or orange during these times.\n",
      "\n",
      "I hope this explanation helps you understand why the sky is blue!\n"
     ]
    }
   ],
   "source": [
    "from ollama import chat\n",
    "from ollama import ChatResponse\n",
    "\n",
    "response: ChatResponse = chat(model='llama3.2:1b', messages=[\n",
    "  {\n",
    "    'role': 'user',\n",
    "    'content': 'Why is the sky blue?',\n",
    "  },\n",
    "])\n",
    "print(response['message']['content'])\n",
    "# or access fields directly from the response object\n",
    "print(response.message.content)"
   ]
  },
  {
   "cell_type": "code",
   "execution_count": 45,
   "metadata": {},
   "outputs": [],
   "source": [
    "def ask_llm():\n",
    "    print(\"ASK LLM.....\")\n",
    "    response = chat(\n",
    "        model='llama3.2:1b',\n",
    "        #'llama3.2-vision',\n",
    "        #'llama3',\n",
    "        messages=[\n",
    "            {\n",
    "                \"role\": \"user\",\n",
    "                \"content\": \"Tell me an interesting fact about elephants\",\n",
    "            },\n",
    "        ],\n",
    "    )\n",
    "    print(response[\"message\"][\"content\"])"
   ]
  },
  {
   "cell_type": "code",
   "execution_count": 46,
   "metadata": {},
   "outputs": [
    {
     "name": "stdout",
     "output_type": "stream",
     "text": [
      "ASK LLM.....\n",
      "One fascinating fact about elephants is that they have a highly developed sense of empathy and self-awareness. While we can't directly ask them how they feel, studies have shown that elephants are able to recognize themselves in mirrors, just like humans do. This ability has been observed in both African and Asian elephant populations, and it suggests that they may be capable of complex emotions and cognitive abilities. In fact, researchers have even used facial expressions and body language to study the emotional states of elephants, including recognizing signs of stress, fear, or joy. This remarkable capacity for self-awareness has led scientists to reevaluate our understanding of elephant intelligence and cognition, and it's an area that continues to fascinate and inspire research today.\n"
     ]
    }
   ],
   "source": [
    "ask_llm()"
   ]
  }
 ],
 "metadata": {
  "kernelspec": {
   "display_name": "Python 3",
   "language": "python",
   "name": "python3"
  },
  "language_info": {
   "codemirror_mode": {
    "name": "ipython",
    "version": 3
   },
   "file_extension": ".py",
   "mimetype": "text/x-python",
   "name": "python",
   "nbconvert_exporter": "python",
   "pygments_lexer": "ipython3",
   "version": "3.12.4"
  }
 },
 "nbformat": 4,
 "nbformat_minor": 2
}
